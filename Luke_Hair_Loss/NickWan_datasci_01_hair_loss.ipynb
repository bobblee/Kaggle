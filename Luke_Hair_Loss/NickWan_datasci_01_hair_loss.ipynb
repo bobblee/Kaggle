{
  "nbformat": 4,
  "nbformat_minor": 0,
  "metadata": {
    "colab": {
      "name": "hair-loss.ipynb",
      "provenance": []
    },
    "kernelspec": {
      "name": "python3",
      "display_name": "Python 3"
    },
    "language_info": {
      "name": "python"
    },
    "widgets": {
      "application/vnd.jupyter.widget-state+json": {
        "77e85e586d2b417e8fb6ce365fabd89e": {
          "model_module": "@jupyter-widgets/controls",
          "model_name": "HBoxModel",
          "model_module_version": "1.5.0",
          "state": {
            "_dom_classes": [],
            "_model_module": "@jupyter-widgets/controls",
            "_model_module_version": "1.5.0",
            "_model_name": "HBoxModel",
            "_view_count": null,
            "_view_module": "@jupyter-widgets/controls",
            "_view_module_version": "1.5.0",
            "_view_name": "HBoxView",
            "box_style": "",
            "children": [
              "IPY_MODEL_6261ba48240f43f99a5d9a6c81aa2cae",
              "IPY_MODEL_2e2789f8fe694d2f921177d14c35ea41",
              "IPY_MODEL_272fccbe80d74ce69dfe6c225d5c3b34"
            ],
            "layout": "IPY_MODEL_7b6af8ffeda44303ab9c029271e3a933"
          }
        },
        "6261ba48240f43f99a5d9a6c81aa2cae": {
          "model_module": "@jupyter-widgets/controls",
          "model_name": "HTMLModel",
          "model_module_version": "1.5.0",
          "state": {
            "_dom_classes": [],
            "_model_module": "@jupyter-widgets/controls",
            "_model_module_version": "1.5.0",
            "_model_name": "HTMLModel",
            "_view_count": null,
            "_view_module": "@jupyter-widgets/controls",
            "_view_module_version": "1.5.0",
            "_view_name": "HTMLView",
            "description": "",
            "description_tooltip": null,
            "layout": "IPY_MODEL_77bde9e38366470aa2778631823f5c4e",
            "placeholder": "​",
            "style": "IPY_MODEL_5b3eb121efa544139bc684de649602da",
            "value": "100%"
          }
        },
        "2e2789f8fe694d2f921177d14c35ea41": {
          "model_module": "@jupyter-widgets/controls",
          "model_name": "FloatProgressModel",
          "model_module_version": "1.5.0",
          "state": {
            "_dom_classes": [],
            "_model_module": "@jupyter-widgets/controls",
            "_model_module_version": "1.5.0",
            "_model_name": "FloatProgressModel",
            "_view_count": null,
            "_view_module": "@jupyter-widgets/controls",
            "_view_module_version": "1.5.0",
            "_view_name": "ProgressView",
            "bar_style": "success",
            "description": "",
            "description_tooltip": null,
            "layout": "IPY_MODEL_835d0ee3ffe94e8f97f8d5dcac47372f",
            "max": 10,
            "min": 0,
            "orientation": "horizontal",
            "style": "IPY_MODEL_3facca04c8294b3b8bde4b09be3dc1a1",
            "value": 10
          }
        },
        "272fccbe80d74ce69dfe6c225d5c3b34": {
          "model_module": "@jupyter-widgets/controls",
          "model_name": "HTMLModel",
          "model_module_version": "1.5.0",
          "state": {
            "_dom_classes": [],
            "_model_module": "@jupyter-widgets/controls",
            "_model_module_version": "1.5.0",
            "_model_name": "HTMLModel",
            "_view_count": null,
            "_view_module": "@jupyter-widgets/controls",
            "_view_module_version": "1.5.0",
            "_view_name": "HTMLView",
            "description": "",
            "description_tooltip": null,
            "layout": "IPY_MODEL_2b0e28711b464ba38a69d186b4b91309",
            "placeholder": "​",
            "style": "IPY_MODEL_fc6e50c454d8482183603a2c1f07ff0a",
            "value": " 10/10 [00:00&lt;00:00, 22.54it/s]"
          }
        },
        "7b6af8ffeda44303ab9c029271e3a933": {
          "model_module": "@jupyter-widgets/base",
          "model_name": "LayoutModel",
          "model_module_version": "1.2.0",
          "state": {
            "_model_module": "@jupyter-widgets/base",
            "_model_module_version": "1.2.0",
            "_model_name": "LayoutModel",
            "_view_count": null,
            "_view_module": "@jupyter-widgets/base",
            "_view_module_version": "1.2.0",
            "_view_name": "LayoutView",
            "align_content": null,
            "align_items": null,
            "align_self": null,
            "border": null,
            "bottom": null,
            "display": null,
            "flex": null,
            "flex_flow": null,
            "grid_area": null,
            "grid_auto_columns": null,
            "grid_auto_flow": null,
            "grid_auto_rows": null,
            "grid_column": null,
            "grid_gap": null,
            "grid_row": null,
            "grid_template_areas": null,
            "grid_template_columns": null,
            "grid_template_rows": null,
            "height": null,
            "justify_content": null,
            "justify_items": null,
            "left": null,
            "margin": null,
            "max_height": null,
            "max_width": null,
            "min_height": null,
            "min_width": null,
            "object_fit": null,
            "object_position": null,
            "order": null,
            "overflow": null,
            "overflow_x": null,
            "overflow_y": null,
            "padding": null,
            "right": null,
            "top": null,
            "visibility": null,
            "width": null
          }
        },
        "77bde9e38366470aa2778631823f5c4e": {
          "model_module": "@jupyter-widgets/base",
          "model_name": "LayoutModel",
          "model_module_version": "1.2.0",
          "state": {
            "_model_module": "@jupyter-widgets/base",
            "_model_module_version": "1.2.0",
            "_model_name": "LayoutModel",
            "_view_count": null,
            "_view_module": "@jupyter-widgets/base",
            "_view_module_version": "1.2.0",
            "_view_name": "LayoutView",
            "align_content": null,
            "align_items": null,
            "align_self": null,
            "border": null,
            "bottom": null,
            "display": null,
            "flex": null,
            "flex_flow": null,
            "grid_area": null,
            "grid_auto_columns": null,
            "grid_auto_flow": null,
            "grid_auto_rows": null,
            "grid_column": null,
            "grid_gap": null,
            "grid_row": null,
            "grid_template_areas": null,
            "grid_template_columns": null,
            "grid_template_rows": null,
            "height": null,
            "justify_content": null,
            "justify_items": null,
            "left": null,
            "margin": null,
            "max_height": null,
            "max_width": null,
            "min_height": null,
            "min_width": null,
            "object_fit": null,
            "object_position": null,
            "order": null,
            "overflow": null,
            "overflow_x": null,
            "overflow_y": null,
            "padding": null,
            "right": null,
            "top": null,
            "visibility": null,
            "width": null
          }
        },
        "5b3eb121efa544139bc684de649602da": {
          "model_module": "@jupyter-widgets/controls",
          "model_name": "DescriptionStyleModel",
          "model_module_version": "1.5.0",
          "state": {
            "_model_module": "@jupyter-widgets/controls",
            "_model_module_version": "1.5.0",
            "_model_name": "DescriptionStyleModel",
            "_view_count": null,
            "_view_module": "@jupyter-widgets/base",
            "_view_module_version": "1.2.0",
            "_view_name": "StyleView",
            "description_width": ""
          }
        },
        "835d0ee3ffe94e8f97f8d5dcac47372f": {
          "model_module": "@jupyter-widgets/base",
          "model_name": "LayoutModel",
          "model_module_version": "1.2.0",
          "state": {
            "_model_module": "@jupyter-widgets/base",
            "_model_module_version": "1.2.0",
            "_model_name": "LayoutModel",
            "_view_count": null,
            "_view_module": "@jupyter-widgets/base",
            "_view_module_version": "1.2.0",
            "_view_name": "LayoutView",
            "align_content": null,
            "align_items": null,
            "align_self": null,
            "border": null,
            "bottom": null,
            "display": null,
            "flex": null,
            "flex_flow": null,
            "grid_area": null,
            "grid_auto_columns": null,
            "grid_auto_flow": null,
            "grid_auto_rows": null,
            "grid_column": null,
            "grid_gap": null,
            "grid_row": null,
            "grid_template_areas": null,
            "grid_template_columns": null,
            "grid_template_rows": null,
            "height": null,
            "justify_content": null,
            "justify_items": null,
            "left": null,
            "margin": null,
            "max_height": null,
            "max_width": null,
            "min_height": null,
            "min_width": null,
            "object_fit": null,
            "object_position": null,
            "order": null,
            "overflow": null,
            "overflow_x": null,
            "overflow_y": null,
            "padding": null,
            "right": null,
            "top": null,
            "visibility": null,
            "width": null
          }
        },
        "3facca04c8294b3b8bde4b09be3dc1a1": {
          "model_module": "@jupyter-widgets/controls",
          "model_name": "ProgressStyleModel",
          "model_module_version": "1.5.0",
          "state": {
            "_model_module": "@jupyter-widgets/controls",
            "_model_module_version": "1.5.0",
            "_model_name": "ProgressStyleModel",
            "_view_count": null,
            "_view_module": "@jupyter-widgets/base",
            "_view_module_version": "1.2.0",
            "_view_name": "StyleView",
            "bar_color": null,
            "description_width": ""
          }
        },
        "2b0e28711b464ba38a69d186b4b91309": {
          "model_module": "@jupyter-widgets/base",
          "model_name": "LayoutModel",
          "model_module_version": "1.2.0",
          "state": {
            "_model_module": "@jupyter-widgets/base",
            "_model_module_version": "1.2.0",
            "_model_name": "LayoutModel",
            "_view_count": null,
            "_view_module": "@jupyter-widgets/base",
            "_view_module_version": "1.2.0",
            "_view_name": "LayoutView",
            "align_content": null,
            "align_items": null,
            "align_self": null,
            "border": null,
            "bottom": null,
            "display": null,
            "flex": null,
            "flex_flow": null,
            "grid_area": null,
            "grid_auto_columns": null,
            "grid_auto_flow": null,
            "grid_auto_rows": null,
            "grid_column": null,
            "grid_gap": null,
            "grid_row": null,
            "grid_template_areas": null,
            "grid_template_columns": null,
            "grid_template_rows": null,
            "height": null,
            "justify_content": null,
            "justify_items": null,
            "left": null,
            "margin": null,
            "max_height": null,
            "max_width": null,
            "min_height": null,
            "min_width": null,
            "object_fit": null,
            "object_position": null,
            "order": null,
            "overflow": null,
            "overflow_x": null,
            "overflow_y": null,
            "padding": null,
            "right": null,
            "top": null,
            "visibility": null,
            "width": null
          }
        },
        "fc6e50c454d8482183603a2c1f07ff0a": {
          "model_module": "@jupyter-widgets/controls",
          "model_name": "DescriptionStyleModel",
          "model_module_version": "1.5.0",
          "state": {
            "_model_module": "@jupyter-widgets/controls",
            "_model_module_version": "1.5.0",
            "_model_name": "DescriptionStyleModel",
            "_view_count": null,
            "_view_module": "@jupyter-widgets/base",
            "_view_module_version": "1.2.0",
            "_view_name": "StyleView",
            "description_width": ""
          }
        }
      }
    }
  },
  "cells": [
    {
      "cell_type": "code",
      "source": [
        "def increase_font():\n",
        "  from IPython.display import Javascript\n",
        "  display(Javascript('''\n",
        "  for (rule of document.styleSheets[0].cssRules){\n",
        "    if (rule.selectorText=='body') {\n",
        "      rule.style.fontSize = '28px'\n",
        "      break\n",
        "    }\n",
        "  }\n",
        "  '''))\n",
        "get_ipython().events.register('pre_run_cell', increase_font)"
      ],
      "metadata": {
        "id": "jFLrdFseVfuf"
      },
      "execution_count": null,
      "outputs": []
    },
    {
      "cell_type": "code",
      "execution_count": null,
      "metadata": {
        "id": "Ep_WjEgHQ7nE",
        "colab": {
          "base_uri": "https://localhost:8080/",
          "height": 17
        },
        "outputId": "a5ebb340-9375-4fb6-d90c-4c65cbb60e67"
      },
      "outputs": [
        {
          "output_type": "display_data",
          "data": {
            "text/plain": [
              "<IPython.core.display.Javascript object>"
            ],
            "application/javascript": [
              "\n",
              "  for (rule of document.styleSheets[0].cssRules){\n",
              "    if (rule.selectorText=='body') {\n",
              "      rule.style.fontSize = '28px'\n",
              "      break\n",
              "    }\n",
              "  }\n",
              "  "
            ]
          },
          "metadata": {}
        }
      ],
      "source": [
        "import os\n",
        "import pandas as pd \n",
        "import numpy as np \n",
        "import seaborn as sns \n",
        "import matplotlib.pyplot as plt \n",
        "from sklearn.linear_model import LinearRegression, LogisticRegression\n",
        "from sklearn.model_selection import KFold \n",
        "from sklearn.metrics import mean_squared_error, log_loss \n",
        "from scipy.stats import pearsonr\n",
        "from tqdm.notebook import tqdm"
      ]
    },
    {
      "cell_type": "code",
      "source": [
        "project_dir = 'drive/My Drive/luke-hair-loss'\n",
        "df = pd.read_csv(f\"{project_dir}/Luke_hair_loss_documentation.csv\")\n",
        "df.columns = [x.strip() for x in df.columns.values]\n",
        "df['date'] = pd.to_datetime(df['date'], format=\"%d/%m/%Y\")\n",
        "df = df.sort_values('date').reset_index(drop=True)\n",
        "df['hair_loss_code'] = df['hair_loss'].replace(['Few', 'Medium', 'Many', 'A lot'], range(4))\n",
        "df['pressure_level_code'] = df['pressure_level'].replace(['Low', 'Medium', 'High', 'Very High'], range(4))\n",
        "df['stress_level_code'] = df['stress_level'].replace(['Low', 'Medium', 'High', 'Very High'], range(4))\n",
        "df['dandruff_code'] = df['dandruff'].replace(['None', 'Few', 'Many'], range(3))\n",
        "df['swimming_code'] = df['swimming'].replace(['No', 'Yes'], range(2))\n",
        "df['hair_washing_code'] = df['hair_washing'].replace(['N', 'Y'], range(2))\n",
        "\n",
        "cols = [\"hair_loss\", \"pressure_level\", \"stress_level\", \n",
        "        \"dandruff\", \"swimming\", \"school_assesssment\", \n",
        "        'hair_washing']\n",
        "\n",
        "for col in ['shampoo_brand','school_assesssment']:\n",
        "  df[f'{col}_code'] = df[col].astype('category').cat.codes\n",
        "  cols.append(col)\n",
        "\n",
        "code_cols = [f\"{x}_code\" for x in cols] \n",
        "num_cols = ['stay_up_late', 'coffee_consumed', 'brain_working_duration', 'hair_grease', 'libido']\n",
        "for col in ['hair_loss', 'stress_level']:\n",
        "  df[f'{col}_avg'] = df[f'{col}_code'].rolling(7).mean()\n",
        "df['next_day_hair_loss'] = df['hair_loss_code'].shift(-1)  \n",
        "df['active_hair_loss_next_day'] = df['next_day_hair_loss'].replace(range(4), [0,0,1,1])\n",
        "df.shape"
      ],
      "metadata": {
        "colab": {
          "base_uri": "https://localhost:8080/",
          "height": 52
        },
        "id": "6xDTVaNCRvjg",
        "outputId": "d44b2617-5556-4aba-f5dc-198cacf526e9"
      },
      "execution_count": null,
      "outputs": [
        {
          "output_type": "display_data",
          "data": {
            "text/plain": [
              "<IPython.core.display.Javascript object>"
            ],
            "application/javascript": [
              "\n",
              "  for (rule of document.styleSheets[0].cssRules){\n",
              "    if (rule.selectorText=='body') {\n",
              "      rule.style.fontSize = '28px'\n",
              "      break\n",
              "    }\n",
              "  }\n",
              "  "
            ]
          },
          "metadata": {}
        },
        {
          "output_type": "execute_result",
          "data": {
            "text/plain": [
              "(400, 26)"
            ]
          },
          "metadata": {},
          "execution_count": 31
        }
      ]
    },
    {
      "cell_type": "code",
      "source": [
        "fig = plt.figure(figsize=(16,10))\n",
        "sns.lineplot(data=df, x='date', y='hair_loss_avg')\n",
        "sns.lineplot(data=df, x='date', y='stress_level_avg')\n",
        "# sns.lineplot(data=df, x='date', y='next_day_hair_loss')\n",
        "sns.despine()\n",
        "plt.show()"
      ],
      "metadata": {
        "colab": {
          "base_uri": "https://localhost:8080/",
          "height": 606
        },
        "id": "5vG80BGBYqC0",
        "outputId": "9073c223-79ee-43d0-cc40-03b5aa126fe8"
      },
      "execution_count": null,
      "outputs": [
        {
          "output_type": "display_data",
          "data": {
            "text/plain": [
              "<IPython.core.display.Javascript object>"
            ],
            "application/javascript": [
              "\n",
              "  for (rule of document.styleSheets[0].cssRules){\n",
              "    if (rule.selectorText=='body') {\n",
              "      rule.style.fontSize = '28px'\n",
              "      break\n",
              "    }\n",
              "  }\n",
              "  "
            ]
          },
          "metadata": {}
        },
        {
          "output_type": "display_data",
          "data": {
            "text/plain": [
              "<Figure size 1152x720 with 1 Axes>"
            ],
            "image/png": "[encoded data removed]"
          },
          "metadata": {
            "needs_background": "light"
          }
        }
      ]
    },
    {
      "cell_type": "code",
      "source": [
        "feats = ['pressure_level_code', 'stress_level_code', 'dandruff_code', \n",
        "         'swimming_code', 'school_assesssment_code', 'hair_washing_code',\n",
        "         'shampoo_brand_code', 'school_assesssment_code'] + num_cols\n",
        "target = 'active_hair_loss_next_day'"
      ],
      "metadata": {
        "colab": {
          "base_uri": "https://localhost:8080/",
          "height": 17
        },
        "id": "etu8S9RCYVb2",
        "outputId": "38a96dc2-f097-4bf7-8e75-67d4f7307e86"
      },
      "execution_count": null,
      "outputs": [
        {
          "output_type": "display_data",
          "data": {
            "text/plain": [
              "<IPython.core.display.Javascript object>"
            ],
            "application/javascript": [
              "\n",
              "  for (rule of document.styleSheets[0].cssRules){\n",
              "    if (rule.selectorText=='body') {\n",
              "      rule.style.fontSize = '28px'\n",
              "      break\n",
              "    }\n",
              "  }\n",
              "  "
            ]
          },
          "metadata": {}
        }
      ]
    },
    {
      "cell_type": "code",
      "source": [
        "model_data = df.dropna(subset=feats+[target])\n",
        "\n",
        "for col in feats: \n",
        "  model_data[f\"{col}_scaled\"] = scale(model_data[col])\n",
        "\n",
        "scaled_feats = [f\"{x}_scaled\" for x in feats]\n",
        "\n",
        "folds = 10\n",
        "kf = KFold(folds)\n",
        "s = pd.Series()\n",
        "df_diagnostic = pd.DataFrame()\n",
        "for train_idx, test_idx in tqdm(kf.split(model_data), total=folds):\n",
        "  train_data = model_data.iloc[train_idx]\n",
        "  test_data = model_data.iloc[test_idx]\n",
        "  model = LogisticRegression()\n",
        "  model.fit(train_data.loc[:, scaled_feats], train_data[target])\n",
        "  s = s.append(pd.DataFrame(model.predict_proba(test_data.loc[:, scaled_feats]), index=test_data.index)[1])\n",
        "\n",
        "  _df = pd.DataFrame(model.coef_, columns=scaled_feats)\n",
        "  df_diagnostic = df_diagnostic.append(_df, ignore_index=True)\n",
        "\n",
        "model_data[f\"{target}_pred\"] = s\n",
        "model_data[f\"{target}_naive\"] = model_data[target].mean()"
      ],
      "metadata": {
        "colab": {
          "base_uri": "https://localhost:8080/",
          "height": 520,
          "referenced_widgets": [
            "77e85e586d2b417e8fb6ce365fabd89e",
            "6261ba48240f43f99a5d9a6c81aa2cae",
            "2e2789f8fe694d2f921177d14c35ea41",
            "272fccbe80d74ce69dfe6c225d5c3b34",
            "7b6af8ffeda44303ab9c029271e3a933",
            "77bde9e38366470aa2778631823f5c4e",
            "5b3eb121efa544139bc684de649602da",
            "835d0ee3ffe94e8f97f8d5dcac47372f",
            "3facca04c8294b3b8bde4b09be3dc1a1",
            "2b0e28711b464ba38a69d186b4b91309",
            "fc6e50c454d8482183603a2c1f07ff0a"
          ]
        },
        "id": "uGHq45spW3R8",
        "outputId": "5d37cc55-a7d9-4cd3-a336-3780857bc3e5"
      },
      "execution_count": null,
      "outputs": [
        {
          "output_type": "display_data",
          "data": {
            "text/plain": [
              "<IPython.core.display.Javascript object>"
            ],
            "application/javascript": [
              "\n",
              "  for (rule of document.styleSheets[0].cssRules){\n",
              "    if (rule.selectorText=='body') {\n",
              "      rule.style.fontSize = '28px'\n",
              "      break\n",
              "    }\n",
              "  }\n",
              "  "
            ]
          },
          "metadata": {}
        },
        {
          "output_type": "stream",
          "name": "stderr",
          "text": [
            "/usr/local/lib/python3.7/dist-packages/ipykernel_launcher.py:4: DeprecationWarning: The default dtype for empty Series will be 'object' instead of 'float64' in a future version. Specify a dtype explicitly to silence this warning.\n",
            "  after removing the cwd from sys.path.\n"
          ]
        },
        {
          "output_type": "display_data",
          "data": {
            "text/plain": [
              "  0%|          | 0/10 [00:00<?, ?it/s]"
            ],
            "application/vnd.jupyter.widget-view+json": {
              "version_major": 2,
              "version_minor": 0,
              "model_id": "77e85e586d2b417e8fb6ce365fabd89e"
            }
          },
          "metadata": {}
        },
        {
          "output_type": "stream",
          "name": "stderr",
          "text": [
            "/usr/local/lib/python3.7/dist-packages/ipykernel_launcher.py:16: SettingWithCopyWarning: \n",
            "A value is trying to be set on a copy of a slice from a DataFrame.\n",
            "Try using .loc[row_indexer,col_indexer] = value instead\n",
            "\n",
            "See the caveats in the documentation: https://pandas.pydata.org/pandas-docs/stable/user_guide/indexing.html#returning-a-view-versus-a-copy\n",
            "  app.launch_new_instance()\n",
            "/usr/local/lib/python3.7/dist-packages/ipykernel_launcher.py:17: SettingWithCopyWarning: \n",
            "A value is trying to be set on a copy of a slice from a DataFrame.\n",
            "Try using .loc[row_indexer,col_indexer] = value instead\n",
            "\n",
            "See the caveats in the documentation: https://pandas.pydata.org/pandas-docs/stable/user_guide/indexing.html#returning-a-view-versus-a-copy\n"
          ]
        }
      ]
    },
    {
      "cell_type": "code",
      "source": [
        "from sklearn.preprocessing import scale"
      ],
      "metadata": {
        "colab": {
          "base_uri": "https://localhost:8080/",
          "height": 17
        },
        "id": "M2n7kJiDMIgK",
        "outputId": "1d4070cc-b7aa-4bce-e6f6-20103303172b"
      },
      "execution_count": null,
      "outputs": [
        {
          "output_type": "display_data",
          "data": {
            "text/plain": [
              "<IPython.core.display.Javascript object>"
            ],
            "application/javascript": [
              "\n",
              "  for (rule of document.styleSheets[0].cssRules){\n",
              "    if (rule.selectorText=='body') {\n",
              "      rule.style.fontSize = '28px'\n",
              "      break\n",
              "    }\n",
              "  }\n",
              "  "
            ]
          },
          "metadata": {}
        }
      ]
    },
    {
      "cell_type": "code",
      "source": [
        "df_diagnostic"
      ],
      "metadata": {
        "colab": {
          "base_uri": "https://localhost:8080/",
          "height": 772
        },
        "id": "4EwCqNMFHR2V",
        "outputId": "e4bebe2d-5f10-4a08-f1f8-cf12605cf62e"
      },
      "execution_count": null,
      "outputs": [
        {
          "output_type": "display_data",
          "data": {
            "text/plain": [
              "<IPython.core.display.Javascript object>"
            ],
            "application/javascript": [
              "\n",
              "  for (rule of document.styleSheets[0].cssRules){\n",
              "    if (rule.selectorText=='body') {\n",
              "      rule.style.fontSize = '28px'\n",
              "      break\n",
              "    }\n",
              "  }\n",
              "  "
            ]
          },
          "metadata": {}
        },
        {
          "output_type": "execute_result",
          "data": {
            "text/plain": [
              "   pressure_level_code  stress_level_code  dandruff_code  swimming_code  \\\n",
              "0             1.018511           1.409500       0.798735      -0.408276   \n",
              "1             1.018833           1.397662       0.792942      -0.407724   \n",
              "2             0.851576           1.605522       0.761810      -0.370733   \n",
              "3             0.869629           1.445507       0.830927      -0.443028   \n",
              "4             1.246203           1.500200       0.827712      -0.285851   \n",
              "5             0.997826           1.332679       0.715691      -0.367399   \n",
              "6             1.010561           1.418636       0.800714      -0.412809   \n",
              "7             1.040456           1.353256       0.791124      -0.361967   \n",
              "8             1.126534           1.251523       0.765428      -0.431714   \n",
              "9             1.007324           1.386161       0.782394      -0.396736   \n",
              "\n",
              "   school_assesssment_code  hair_washing_code  shampoo_brand_code  \\\n",
              "0                 0.443990           0.040535           -0.408939   \n",
              "1                 0.441112           0.034459           -0.451642   \n",
              "2                 0.421789           0.050462           -0.490492   \n",
              "3                 0.495290           0.059153           -0.475924   \n",
              "4                 0.447407           0.220285           -0.370578   \n",
              "5                 0.435025          -0.243403           -0.445446   \n",
              "6                 0.444456           0.039752           -0.432117   \n",
              "7                 0.413356          -0.086387           -0.182186   \n",
              "8                 0.460651           0.262159           -0.432195   \n",
              "9                 0.440374           0.038503           -0.469513   \n",
              "\n",
              "   school_assesssment_code  stay_up_late  coffee_consumed  \\\n",
              "0                 0.443990     -0.608046         0.665291   \n",
              "1                 0.441112     -0.610824         0.673794   \n",
              "2                 0.421789     -0.382111         0.631177   \n",
              "3                 0.495290     -0.589908         0.560196   \n",
              "4                 0.447407     -0.635465         0.732143   \n",
              "5                 0.435025     -0.561238         0.569621   \n",
              "6                 0.444456     -0.602983         0.661159   \n",
              "7                 0.413356     -0.487309         0.535884   \n",
              "8                 0.460651     -0.820742         0.746623   \n",
              "9                 0.440374     -0.619845         0.686582   \n",
              "\n",
              "   brain_working_duration  hair_grease    libido  \n",
              "0               -0.200538     1.201549  0.506715  \n",
              "1               -0.203309     1.189274  0.508286  \n",
              "2               -0.241606     1.217317  0.577887  \n",
              "3               -0.142390     1.186181  0.513054  \n",
              "4               -0.247803     1.175529  0.590312  \n",
              "5               -0.153659     1.141392  0.371291  \n",
              "6               -0.199881     1.191836  0.505832  \n",
              "7               -0.215153     1.250696  0.426040  \n",
              "8               -0.132106     1.160779  0.504459  \n",
              "9               -0.203003     1.182827  0.512576  "
            ],
            "text/html": [
              "\n",
              "  <div id=\"df-a33dabe9-8966-4ffb-9a31-b95fe5cd6a73\">\n",
              "    <div class=\"colab-df-container\">\n",
              "      <div>\n",
              "<style scoped>\n",
              "    .dataframe tbody tr th:only-of-type {\n",
              "        vertical-align: middle;\n",
              "    }\n",
              "\n",
              "    .dataframe tbody tr th {\n",
              "        vertical-align: top;\n",
              "    }\n",
              "\n",
              "    .dataframe thead th {\n",
              "        text-align: right;\n",
              "    }\n",
              "</style>\n",
              "<table border=\"1\" class=\"dataframe\">\n",
              "  <thead>\n",
              "    <tr style=\"text-align: right;\">\n",
              "      <th></th>\n",
              "      <th>pressure_level_code</th>\n",
              "      <th>stress_level_code</th>\n",
              "      <th>dandruff_code</th>\n",
              "      <th>swimming_code</th>\n",
              "      <th>school_assesssment_code</th>\n",
              "      <th>hair_washing_code</th>\n",
              "      <th>shampoo_brand_code</th>\n",
              "      <th>school_assesssment_code</th>\n",
              "      <th>stay_up_late</th>\n",
              "      <th>coffee_consumed</th>\n",
              "      <th>brain_working_duration</th>\n",
              "      <th>hair_grease</th>\n",
              "      <th>libido</th>\n",
              "    </tr>\n",
              "  </thead>\n",
              "  <tbody>\n",
              "    <tr>\n",
              "      <th>0</th>\n",
              "      <td>1.018511</td>\n",
              "      <td>1.409500</td>\n",
              "      <td>0.798735</td>\n",
              "      <td>-0.408276</td>\n",
              "      <td>0.443990</td>\n",
              "      <td>0.040535</td>\n",
              "      <td>-0.408939</td>\n",
              "      <td>0.443990</td>\n",
              "      <td>-0.608046</td>\n",
              "      <td>0.665291</td>\n",
              "      <td>-0.200538</td>\n",
              "      <td>1.201549</td>\n",
              "      <td>0.506715</td>\n",
              "    </tr>\n",
              "    <tr>\n",
              "      <th>1</th>\n",
              "      <td>1.018833</td>\n",
              "      <td>1.397662</td>\n",
              "      <td>0.792942</td>\n",
              "      <td>-0.407724</td>\n",
              "      <td>0.441112</td>\n",
              "      <td>0.034459</td>\n",
              "      <td>-0.451642</td>\n",
              "      <td>0.441112</td>\n",
              "      <td>-0.610824</td>\n",
              "      <td>0.673794</td>\n",
              "      <td>-0.203309</td>\n",
              "      <td>1.189274</td>\n",
              "      <td>0.508286</td>\n",
              "    </tr>\n",
              "    <tr>\n",
              "      <th>2</th>\n",
              "      <td>0.851576</td>\n",
              "      <td>1.605522</td>\n",
              "      <td>0.761810</td>\n",
              "      <td>-0.370733</td>\n",
              "      <td>0.421789</td>\n",
              "      <td>0.050462</td>\n",
              "      <td>-0.490492</td>\n",
              "      <td>0.421789</td>\n",
              "      <td>-0.382111</td>\n",
              "      <td>0.631177</td>\n",
              "      <td>-0.241606</td>\n",
              "      <td>1.217317</td>\n",
              "      <td>0.577887</td>\n",
              "    </tr>\n",
              "    <tr>\n",
              "      <th>3</th>\n",
              "      <td>0.869629</td>\n",
              "      <td>1.445507</td>\n",
              "      <td>0.830927</td>\n",
              "      <td>-0.443028</td>\n",
              "      <td>0.495290</td>\n",
              "      <td>0.059153</td>\n",
              "      <td>-0.475924</td>\n",
              "      <td>0.495290</td>\n",
              "      <td>-0.589908</td>\n",
              "      <td>0.560196</td>\n",
              "      <td>-0.142390</td>\n",
              "      <td>1.186181</td>\n",
              "      <td>0.513054</td>\n",
              "    </tr>\n",
              "    <tr>\n",
              "      <th>4</th>\n",
              "      <td>1.246203</td>\n",
              "      <td>1.500200</td>\n",
              "      <td>0.827712</td>\n",
              "      <td>-0.285851</td>\n",
              "      <td>0.447407</td>\n",
              "      <td>0.220285</td>\n",
              "      <td>-0.370578</td>\n",
              "      <td>0.447407</td>\n",
              "      <td>-0.635465</td>\n",
              "      <td>0.732143</td>\n",
              "      <td>-0.247803</td>\n",
              "      <td>1.175529</td>\n",
              "      <td>0.590312</td>\n",
              "    </tr>\n",
              "    <tr>\n",
              "      <th>5</th>\n",
              "      <td>0.997826</td>\n",
              "      <td>1.332679</td>\n",
              "      <td>0.715691</td>\n",
              "      <td>-0.367399</td>\n",
              "      <td>0.435025</td>\n",
              "      <td>-0.243403</td>\n",
              "      <td>-0.445446</td>\n",
              "      <td>0.435025</td>\n",
              "      <td>-0.561238</td>\n",
              "      <td>0.569621</td>\n",
              "      <td>-0.153659</td>\n",
              "      <td>1.141392</td>\n",
              "      <td>0.371291</td>\n",
              "    </tr>\n",
              "    <tr>\n",
              "      <th>6</th>\n",
              "      <td>1.010561</td>\n",
              "      <td>1.418636</td>\n",
              "      <td>0.800714</td>\n",
              "      <td>-0.412809</td>\n",
              "      <td>0.444456</td>\n",
              "      <td>0.039752</td>\n",
              "      <td>-0.432117</td>\n",
              "      <td>0.444456</td>\n",
              "      <td>-0.602983</td>\n",
              "      <td>0.661159</td>\n",
              "      <td>-0.199881</td>\n",
              "      <td>1.191836</td>\n",
              "      <td>0.505832</td>\n",
              "    </tr>\n",
              "    <tr>\n",
              "      <th>7</th>\n",
              "      <td>1.040456</td>\n",
              "      <td>1.353256</td>\n",
              "      <td>0.791124</td>\n",
              "      <td>-0.361967</td>\n",
              "      <td>0.413356</td>\n",
              "      <td>-0.086387</td>\n",
              "      <td>-0.182186</td>\n",
              "      <td>0.413356</td>\n",
              "      <td>-0.487309</td>\n",
              "      <td>0.535884</td>\n",
              "      <td>-0.215153</td>\n",
              "      <td>1.250696</td>\n",
              "      <td>0.426040</td>\n",
              "    </tr>\n",
              "    <tr>\n",
              "      <th>8</th>\n",
              "      <td>1.126534</td>\n",
              "      <td>1.251523</td>\n",
              "      <td>0.765428</td>\n",
              "      <td>-0.431714</td>\n",
              "      <td>0.460651</td>\n",
              "      <td>0.262159</td>\n",
              "      <td>-0.432195</td>\n",
              "      <td>0.460651</td>\n",
              "      <td>-0.820742</td>\n",
              "      <td>0.746623</td>\n",
              "      <td>-0.132106</td>\n",
              "      <td>1.160779</td>\n",
              "      <td>0.504459</td>\n",
              "    </tr>\n",
              "    <tr>\n",
              "      <th>9</th>\n",
              "      <td>1.007324</td>\n",
              "      <td>1.386161</td>\n",
              "      <td>0.782394</td>\n",
              "      <td>-0.396736</td>\n",
              "      <td>0.440374</td>\n",
              "      <td>0.038503</td>\n",
              "      <td>-0.469513</td>\n",
              "      <td>0.440374</td>\n",
              "      <td>-0.619845</td>\n",
              "      <td>0.686582</td>\n",
              "      <td>-0.203003</td>\n",
              "      <td>1.182827</td>\n",
              "      <td>0.512576</td>\n",
              "    </tr>\n",
              "  </tbody>\n",
              "</table>\n",
              "</div>\n",
              "      <button class=\"colab-df-convert\" onclick=\"convertToInteractive('df-a33dabe9-8966-4ffb-9a31-b95fe5cd6a73')\"\n",
              "              title=\"Convert this dataframe to an interactive table.\"\n",
              "              style=\"display:none;\">\n",
              "        \n",
              "  <svg xmlns=\"http://www.w3.org/2000/svg\" height=\"24px\"viewBox=\"0 0 24 24\"\n",
              "       width=\"24px\">\n",
              "    <path d=\"M0 0h24v24H0V0z\" fill=\"none\"/>\n",
              "    <path d=\"M18.56 5.44l.94 2.06.94-2.06 2.06-.94-2.06-.94-.94-2.06-.94 2.06-2.06.94zm-11 1L8.5 8.5l.94-2.06 2.06-.94-2.06-.94L8.5 2.5l-.94 2.06-2.06.94zm10 10l.94 2.06.94-2.06 2.06-.94-2.06-.94-.94-2.06-.94 2.06-2.06.94z\"/><path d=\"M17.41 7.96l-1.37-1.37c-.4-.4-.92-.59-1.43-.59-.52 0-1.04.2-1.43.59L10.3 9.45l-7.72 7.72c-.78.78-.78 2.05 0 2.83L4 21.41c.39.39.9.59 1.41.59.51 0 1.02-.2 1.41-.59l7.78-7.78 2.81-2.81c.8-.78.8-2.07 0-2.86zM5.41 20L4 18.59l7.72-7.72 1.47 1.35L5.41 20z\"/>\n",
              "  </svg>\n",
              "      </button>\n",
              "      \n",
              "  <style>\n",
              "    .colab-df-container {\n",
              "      display:flex;\n",
              "      flex-wrap:wrap;\n",
              "      gap: 12px;\n",
              "    }\n",
              "\n",
              "    .colab-df-convert {\n",
              "      background-color: #E8F0FE;\n",
              "      border: none;\n",
              "      border-radius: 50%;\n",
              "      cursor: pointer;\n",
              "      display: none;\n",
              "      fill: #1967D2;\n",
              "      height: 32px;\n",
              "      padding: 0 0 0 0;\n",
              "      width: 32px;\n",
              "    }\n",
              "\n",
              "    .colab-df-convert:hover {\n",
              "      background-color: #E2EBFA;\n",
              "      box-shadow: 0px 1px 2px rgba(60, 64, 67, 0.3), 0px 1px 3px 1px rgba(60, 64, 67, 0.15);\n",
              "      fill: #174EA6;\n",
              "    }\n",
              "\n",
              "    [theme=dark] .colab-df-convert {\n",
              "      background-color: #3B4455;\n",
              "      fill: #D2E3FC;\n",
              "    }\n",
              "\n",
              "    [theme=dark] .colab-df-convert:hover {\n",
              "      background-color: #434B5C;\n",
              "      box-shadow: 0px 1px 3px 1px rgba(0, 0, 0, 0.15);\n",
              "      filter: drop-shadow(0px 1px 2px rgba(0, 0, 0, 0.3));\n",
              "      fill: #FFFFFF;\n",
              "    }\n",
              "  </style>\n",
              "\n",
              "      <script>\n",
              "        const buttonEl =\n",
              "          document.querySelector('#df-a33dabe9-8966-4ffb-9a31-b95fe5cd6a73 button.colab-df-convert');\n",
              "        buttonEl.style.display =\n",
              "          google.colab.kernel.accessAllowed ? 'block' : 'none';\n",
              "\n",
              "        async function convertToInteractive(key) {\n",
              "          const element = document.querySelector('#df-a33dabe9-8966-4ffb-9a31-b95fe5cd6a73');\n",
              "          const dataTable =\n",
              "            await google.colab.kernel.invokeFunction('convertToInteractive',\n",
              "                                                     [key], {});\n",
              "          if (!dataTable) return;\n",
              "\n",
              "          const docLinkHtml = 'Like what you see? Visit the ' +\n",
              "            '<a target=\"_blank\" href=https://colab.research.google.com/notebooks/data_table.ipynb>data table notebook</a>'\n",
              "            + ' to learn more about interactive tables.';\n",
              "          element.innerHTML = '';\n",
              "          dataTable['output_type'] = 'display_data';\n",
              "          await google.colab.output.renderOutput(dataTable, element);\n",
              "          const docLink = document.createElement('div');\n",
              "          docLink.innerHTML = docLinkHtml;\n",
              "          element.appendChild(docLink);\n",
              "        }\n",
              "      </script>\n",
              "    </div>\n",
              "  </div>\n",
              "  "
            ]
          },
          "metadata": {},
          "execution_count": 49
        }
      ]
    },
    {
      "cell_type": "code",
      "source": [
        "loss_pred = log_loss(model_data[target], model_data[f\"{target}_pred\"])\n",
        "loss_naive = log_loss(model_data[target], model_data[f\"{target}_naive\"])\n",
        "loss_pred, loss_naive"
      ],
      "metadata": {
        "colab": {
          "base_uri": "https://localhost:8080/",
          "height": 52
        },
        "id": "HRTB8adIFOT5",
        "outputId": "5b9659de-75fe-4c8e-baa8-d31da2d70e07"
      },
      "execution_count": null,
      "outputs": [
        {
          "output_type": "display_data",
          "data": {
            "text/plain": [
              "<IPython.core.display.Javascript object>"
            ],
            "application/javascript": [
              "\n",
              "  for (rule of document.styleSheets[0].cssRules){\n",
              "    if (rule.selectorText=='body') {\n",
              "      rule.style.fontSize = '28px'\n",
              "      break\n",
              "    }\n",
              "  }\n",
              "  "
            ]
          },
          "metadata": {}
        },
        {
          "output_type": "execute_result",
          "data": {
            "text/plain": [
              "(0.07324488280624811, 0.44301310772434516)"
            ]
          },
          "metadata": {},
          "execution_count": 42
        }
      ]
    },
    {
      "cell_type": "code",
      "source": [
        "fig = plt.figure(figsize=(10,6))\n",
        "sns.boxplot(data=model_data, x=target, y=f\"{target}_pred\")\n",
        "sns.despine()\n",
        "plt.show()"
      ],
      "metadata": {
        "colab": {
          "base_uri": "https://localhost:8080/",
          "height": 389
        },
        "id": "i-sPNouYFxVo",
        "outputId": "a58d914b-38d4-4948-8c79-54000f56ba95"
      },
      "execution_count": null,
      "outputs": [
        {
          "output_type": "display_data",
          "data": {
            "text/plain": [
              "<IPython.core.display.Javascript object>"
            ],
            "application/javascript": [
              "\n",
              "  for (rule of document.styleSheets[0].cssRules){\n",
              "    if (rule.selectorText=='body') {\n",
              "      rule.style.fontSize = '28px'\n",
              "      break\n",
              "    }\n",
              "  }\n",
              "  "
            ]
          },
          "metadata": {}
        },
        {
          "output_type": "display_data",
          "data": {
            "text/plain": [
              "<Figure size 720x432 with 1 Axes>"
            ],
            "image/png": "[encoded data removed]"
          },
          "metadata": {
            "needs_background": "light"
          }
        }
      ]
    },
    {
      "cell_type": "code",
      "source": [
        "r2 = pearsonr(model_data[target], model_data[f\"{target}_pred\"])[0]**2\n",
        "rmse = mean_squared_error(model_data[target], model_data[f\"{target}_pred\"])**0.5\n",
        "\n",
        "sns.regplot(data=model_data, x=target, y=f\"{target}_pred\")\n",
        "plt.title(f\"r2: {round(r2, 3)}\\nrmse: {round(rmse, 3)}\")\n",
        "sns.despine()\n",
        "plt.show()"
      ],
      "metadata": {
        "colab": {
          "base_uri": "https://localhost:8080/",
          "height": 311
        },
        "id": "GR4ffQReStpz",
        "outputId": "74c97ef1-dc87-477f-a3d4-4e0983f9341e"
      },
      "execution_count": null,
      "outputs": [
        {
          "output_type": "display_data",
          "data": {
            "text/plain": [
              "<IPython.core.display.Javascript object>"
            ],
            "application/javascript": [
              "\n",
              "  for (rule of document.styleSheets[0].cssRules){\n",
              "    if (rule.selectorText=='body') {\n",
              "      rule.style.fontSize = '28px'\n",
              "      break\n",
              "    }\n",
              "  }\n",
              "  "
            ]
          },
          "metadata": {}
        },
        {
          "output_type": "display_data",
          "data": {
            "text/plain": [
              "<Figure size 432x288 with 1 Axes>"
            ],
            "image/png": "[encoded data removed]"
          },
          "metadata": {
            "needs_background": "light"
          }
        }
      ]
    },
    {
      "cell_type": "code",
      "source": [
        ""
      ],
      "metadata": {
        "id": "YEBd3xTOSEBi"
      },
      "execution_count": null,
      "outputs": []
    }
  ]
}